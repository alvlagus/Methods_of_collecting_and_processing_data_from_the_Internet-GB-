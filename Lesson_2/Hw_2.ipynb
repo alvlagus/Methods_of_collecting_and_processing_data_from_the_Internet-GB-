{
 "cells": [
  {
   "cell_type": "markdown",
   "metadata": {
    "pycharm": {
     "name": "#%% md\n"
    }
   },
   "source": [
    "## Методы сбора и обработки данных из сети Интернет\n",
    "### Урок 2. Парсинг HTML. BeautifulSoup, MongoDB"
   ]
  },
  {
   "cell_type": "markdown",
   "metadata": {
    "pycharm": {
     "name": "#%% md\n"
    }
   },
   "source": [
    "Необходимо собрать информацию о вакансиях на вводимую должность (используем input или через аргументы получаем должность) с сайтов HH(обязательно) и/или Superjob(по желанию). Приложение должно анализировать несколько страниц сайта (также вводим через input или аргументы). Получившийся список должен содержать в себе минимум:  \n",
    "    1. Наименование вакансии.  \n",
    "    2. Предлагаемую зарплату (разносим в три поля: минимальная и максимальная и валюта. цифры преобразуем к цифрам).  \n",
    "    3. Ссылку на саму вакансию.  \n",
    "    4. Сайт, откуда собрана вакансия.  \n",
    "По желанию можно добавить ещё параметры вакансии (например, работодателя и расположение). Структура должна быть одинаковая для вакансий с обоих сайтов. Общий результат можно вывести с помощью dataFrame через pandas. Сохраните в json либо csv."
   ]
  },
  {
   "cell_type": "code",
   "execution_count": 1,
   "metadata": {
    "collapsed": false,
    "jupyter": {
     "outputs_hidden": false
    },
    "pycharm": {
     "name": "#%%\n"
    }
   },
   "outputs": [],
   "source": [
    "# загружаемые библиотеки\n",
    "import json\n",
    "import re\n",
    "import requests\n",
    "from bs4 import BeautifulSoup\n",
    "from pprint import pprint\n",
    "import pandas as pd"
   ]
  },
  {
   "cell_type": "code",
   "execution_count": 2,
   "metadata": {
    "collapsed": false,
    "jupyter": {
     "outputs_hidden": false
    },
    "pycharm": {
     "name": "#%%\n"
    }
   },
   "outputs": [],
   "source": [
    "VACANCY_NAME = 'Data scientist'\n",
    "base_url = 'https://hh.ru/search/vacancy'\n",
    "url = 'https://hh.ru/search/vacancy'\n",
    "headers = {\n",
    "    'User-Agent': 'Mozilla/5.0 (X11; Linux x86_64) AppleWebKit/537.36 (KHTML, like Gecko) Chrome/98.0.4758.80 '\n",
    "                  'Safari/537.36'\n",
    "}\n",
    "params = {\n",
    "    # 'search_field': 'name',\n",
    "    # 'search_field': 'company_name',\n",
    "    # 'search_field': 'description',\n",
    "    'text': VACANCY_NAME,\n",
    "    'area': 113,\n",
    "    'salary': '',\n",
    "    'currency_code': 'RUR',\n",
    "    'experience': 'doesNotMatter',\n",
    "    'order_by': 'relevance',\n",
    "    'search_period': 0,\n",
    "    'items_on_page': 20,\n",
    "    'no_magic': 'true',\n",
    "    'L_save_area': 'true',\n",
    "    'page': 0,\n",
    "    # 'hhtmFrom': 'vacancy_search_list'\n",
    "}\n",
    "\n",
    "vacancy_list = []\n",
    "\n",
    "while True:\n",
    "    response = requests.get(url, headers=headers, params=params)\n",
    "    if response.ok:\n",
    "        dom = BeautifulSoup(response.text, 'html.parser')\n",
    "        vacancy_boxes = dom.find_all('div', {'class': 'vacancy-serp-item'})\n",
    "\n",
    "        for vacancy_box in vacancy_boxes:\n",
    "\n",
    "            vacancy_data = {}\n",
    "\n",
    "            vacancy = vacancy_box.find('a', {'data-qa': 'vacancy-serp__vacancy-title'})\n",
    "            vacancy_name = vacancy.getText()\n",
    "            vacancy_link = vacancy.get('href')\n",
    "            vacancy_address = \\\n",
    "                vacancy_box.find('div', {'class': 'bloko-text bloko-text_no-top-indent'}).getText().split(', ')[0]\n",
    "\n",
    "            salary = vacancy_box.find('span', {'data-qa': 'vacancy-serp__vacancy-compensation'})\n",
    "            if salary is None:\n",
    "                salary_min = None\n",
    "                salary_max = None\n",
    "                salary_currency = None\n",
    "            else:\n",
    "                salary_str = salary.getText()\n",
    "                salary_list = salary_str.split(' ')\n",
    "                regex = r'[\\D+\\\\.]?$'\n",
    "                if re.search(regex, salary_str):\n",
    "                    salary_currency = salary_list[-1]\n",
    "                else:\n",
    "                    salary_currency = None\n",
    "                if salary_str.startswith('от'):\n",
    "                    salary_min = salary_list[1].replace('\\u202f', ' ')\n",
    "                    salary_max = None\n",
    "                elif salary_str.startswith('до'):\n",
    "                    salary_min = None\n",
    "                    salary_max = salary_list[1].replace('\\u202f', ' ')\n",
    "                else:\n",
    "                    salary_min = salary_list[0].replace('\\u202f', ' ')\n",
    "                    salary_max = salary_list[2].replace('\\u202f', ' ')\n",
    "            \n",
    "            vacancy_data['Название вакансии'] = vacancy_name\n",
    "            vacancy_data['Город'] = vacancy_address\n",
    "            vacancy_data['Минимальная зарплата'] = salary_min\n",
    "            vacancy_data['Максимальная зарплата'] = salary_max\n",
    "            vacancy_data['Валюта'] = salary_currency\n",
    "            vacancy_data['Ссылка'] = vacancy_link\n",
    "            vacancy_data['Сайт'] = 'https://hh.ru'\n",
    "            vacancy_list.append(vacancy_data)\n",
    "\n",
    "        next_page = dom.find('a', {'data-qa': 'pager-next'})\n",
    "        params['page'] += 1\n",
    "\n",
    "    else:\n",
    "        break"
   ]
  },
  {
   "cell_type": "markdown",
   "metadata": {
    "jupyter": {
     "outputs_hidden": false
    },
    "pycharm": {
     "name": "#%%\n"
    }
   },
   "source": [
    "with open('hh.json', 'w') as file:\n",
    "    json.dump(vacancy_list, file, indent=2, ensure_ascii=False)"
   ]
  },
  {
   "cell_type": "code",
   "execution_count": 3,
   "metadata": {
    "collapsed": false,
    "jupyter": {
     "outputs_hidden": false
    },
    "pycharm": {
     "name": "#%%\n"
    }
   },
   "outputs": [],
   "source": [
    "df_hh = pd.DataFrame(vacancy_list)"
   ]
  },
  {
   "cell_type": "code",
   "execution_count": 4,
   "metadata": {},
   "outputs": [
    {
     "data": {
      "text/html": [
       "<div>\n",
       "<style scoped>\n",
       "    .dataframe tbody tr th:only-of-type {\n",
       "        vertical-align: middle;\n",
       "    }\n",
       "\n",
       "    .dataframe tbody tr th {\n",
       "        vertical-align: top;\n",
       "    }\n",
       "\n",
       "    .dataframe thead th {\n",
       "        text-align: right;\n",
       "    }\n",
       "</style>\n",
       "<table border=\"1\" class=\"dataframe\">\n",
       "  <thead>\n",
       "    <tr style=\"text-align: right;\">\n",
       "      <th></th>\n",
       "      <th>Название вакансии</th>\n",
       "      <th>Город</th>\n",
       "      <th>Минимальная зарплата</th>\n",
       "      <th>Максимальная зарплата</th>\n",
       "      <th>Валюта</th>\n",
       "      <th>Ссылка</th>\n",
       "      <th>Сайт</th>\n",
       "    </tr>\n",
       "  </thead>\n",
       "  <tbody>\n",
       "    <tr>\n",
       "      <th>0</th>\n",
       "      <td>Data Scientist (команда Поиска)</td>\n",
       "      <td>Москва</td>\n",
       "      <td>None</td>\n",
       "      <td>None</td>\n",
       "      <td>None</td>\n",
       "      <td>https://hh.ru/vacancy/46048820?from=vacancy_se...</td>\n",
       "      <td>https://hh.ru</td>\n",
       "    </tr>\n",
       "    <tr>\n",
       "      <th>1</th>\n",
       "      <td>Аналитик данных (Data scientist)</td>\n",
       "      <td>Новосибирск</td>\n",
       "      <td>None</td>\n",
       "      <td>None</td>\n",
       "      <td>None</td>\n",
       "      <td>https://hh.ru/vacancy/51239177?from=vacancy_se...</td>\n",
       "      <td>https://hh.ru</td>\n",
       "    </tr>\n",
       "    <tr>\n",
       "      <th>2</th>\n",
       "      <td>Аналитик данных (Data scientist)</td>\n",
       "      <td>Владивосток</td>\n",
       "      <td>None</td>\n",
       "      <td>None</td>\n",
       "      <td>None</td>\n",
       "      <td>https://hh.ru/vacancy/51239173?from=vacancy_se...</td>\n",
       "      <td>https://hh.ru</td>\n",
       "    </tr>\n",
       "    <tr>\n",
       "      <th>3</th>\n",
       "      <td>Data Scientist</td>\n",
       "      <td>Москва</td>\n",
       "      <td>600 000</td>\n",
       "      <td>1 800 000</td>\n",
       "      <td>руб.</td>\n",
       "      <td>https://hh.ru/vacancy/52631700?from=vacancy_se...</td>\n",
       "      <td>https://hh.ru</td>\n",
       "    </tr>\n",
       "    <tr>\n",
       "      <th>4</th>\n",
       "      <td>Data Scientist (Middle)</td>\n",
       "      <td>Москва</td>\n",
       "      <td>200 000</td>\n",
       "      <td>330 000</td>\n",
       "      <td>руб.</td>\n",
       "      <td>https://hh.ru/vacancy/51421868?from=vacancy_se...</td>\n",
       "      <td>https://hh.ru</td>\n",
       "    </tr>\n",
       "    <tr>\n",
       "      <th>...</th>\n",
       "      <td>...</td>\n",
       "      <td>...</td>\n",
       "      <td>...</td>\n",
       "      <td>...</td>\n",
       "      <td>...</td>\n",
       "      <td>...</td>\n",
       "      <td>...</td>\n",
       "    </tr>\n",
       "    <tr>\n",
       "      <th>719</th>\n",
       "      <td>Business/System Administrator / L2 Engineer</td>\n",
       "      <td>Пермь</td>\n",
       "      <td>60 000</td>\n",
       "      <td>None</td>\n",
       "      <td>руб.</td>\n",
       "      <td>https://hh.ru/vacancy/51658133?from=vacancy_se...</td>\n",
       "      <td>https://hh.ru</td>\n",
       "    </tr>\n",
       "    <tr>\n",
       "      <th>720</th>\n",
       "      <td>Business/System Administrator / L2 Engineer</td>\n",
       "      <td>Новосибирск</td>\n",
       "      <td>60 000</td>\n",
       "      <td>None</td>\n",
       "      <td>руб.</td>\n",
       "      <td>https://hh.ru/vacancy/51658130?from=vacancy_se...</td>\n",
       "      <td>https://hh.ru</td>\n",
       "    </tr>\n",
       "    <tr>\n",
       "      <th>721</th>\n",
       "      <td>Business/System Administrator / L2 Engineer</td>\n",
       "      <td>Москва</td>\n",
       "      <td>60 000</td>\n",
       "      <td>None</td>\n",
       "      <td>руб.</td>\n",
       "      <td>https://hh.ru/vacancy/51658127?from=vacancy_se...</td>\n",
       "      <td>https://hh.ru</td>\n",
       "    </tr>\n",
       "    <tr>\n",
       "      <th>722</th>\n",
       "      <td>Business/System Administrator / L2 Engineer</td>\n",
       "      <td>Екатеринбург</td>\n",
       "      <td>60 000</td>\n",
       "      <td>None</td>\n",
       "      <td>руб.</td>\n",
       "      <td>https://hh.ru/vacancy/51658129?from=vacancy_se...</td>\n",
       "      <td>https://hh.ru</td>\n",
       "    </tr>\n",
       "    <tr>\n",
       "      <th>723</th>\n",
       "      <td>Business/System Administrator / L2 Engineer</td>\n",
       "      <td>Санкт-Петербург</td>\n",
       "      <td>60 000</td>\n",
       "      <td>None</td>\n",
       "      <td>руб.</td>\n",
       "      <td>https://hh.ru/vacancy/51658128?from=vacancy_se...</td>\n",
       "      <td>https://hh.ru</td>\n",
       "    </tr>\n",
       "  </tbody>\n",
       "</table>\n",
       "<p>724 rows × 7 columns</p>\n",
       "</div>"
      ],
      "text/plain": [
       "                               Название вакансии            Город  \\\n",
       "0                Data Scientist (команда Поиска)           Москва   \n",
       "1               Аналитик данных (Data scientist)      Новосибирск   \n",
       "2               Аналитик данных (Data scientist)      Владивосток   \n",
       "3                                 Data Scientist           Москва   \n",
       "4                        Data Scientist (Middle)           Москва   \n",
       "..                                           ...              ...   \n",
       "719  Business/System Administrator / L2 Engineer            Пермь   \n",
       "720  Business/System Administrator / L2 Engineer      Новосибирск   \n",
       "721  Business/System Administrator / L2 Engineer           Москва   \n",
       "722  Business/System Administrator / L2 Engineer     Екатеринбург   \n",
       "723  Business/System Administrator / L2 Engineer  Санкт-Петербург   \n",
       "\n",
       "    Минимальная зарплата Максимальная зарплата Валюта  \\\n",
       "0                   None                  None   None   \n",
       "1                   None                  None   None   \n",
       "2                   None                  None   None   \n",
       "3                600 000             1 800 000   руб.   \n",
       "4                200 000               330 000   руб.   \n",
       "..                   ...                   ...    ...   \n",
       "719               60 000                  None   руб.   \n",
       "720               60 000                  None   руб.   \n",
       "721               60 000                  None   руб.   \n",
       "722               60 000                  None   руб.   \n",
       "723               60 000                  None   руб.   \n",
       "\n",
       "                                                Ссылка           Сайт  \n",
       "0    https://hh.ru/vacancy/46048820?from=vacancy_se...  https://hh.ru  \n",
       "1    https://hh.ru/vacancy/51239177?from=vacancy_se...  https://hh.ru  \n",
       "2    https://hh.ru/vacancy/51239173?from=vacancy_se...  https://hh.ru  \n",
       "3    https://hh.ru/vacancy/52631700?from=vacancy_se...  https://hh.ru  \n",
       "4    https://hh.ru/vacancy/51421868?from=vacancy_se...  https://hh.ru  \n",
       "..                                                 ...            ...  \n",
       "719  https://hh.ru/vacancy/51658133?from=vacancy_se...  https://hh.ru  \n",
       "720  https://hh.ru/vacancy/51658130?from=vacancy_se...  https://hh.ru  \n",
       "721  https://hh.ru/vacancy/51658127?from=vacancy_se...  https://hh.ru  \n",
       "722  https://hh.ru/vacancy/51658129?from=vacancy_se...  https://hh.ru  \n",
       "723  https://hh.ru/vacancy/51658128?from=vacancy_se...  https://hh.ru  \n",
       "\n",
       "[724 rows x 7 columns]"
      ]
     },
     "metadata": {},
     "output_type": "display_data"
    }
   ],
   "source": [
    "display(df_hh)"
   ]
  }
 ],
 "metadata": {
  "kernelspec": {
   "display_name": "Python 3 (ipykernel)",
   "language": "python",
   "name": "python3"
  },
  "language_info": {
   "codemirror_mode": {
    "name": "ipython",
    "version": 3
   },
   "file_extension": ".py",
   "mimetype": "text/x-python",
   "name": "python",
   "nbconvert_exporter": "python",
   "pygments_lexer": "ipython3",
   "version": "3.9.7"
  }
 },
 "nbformat": 4,
 "nbformat_minor": 4
}

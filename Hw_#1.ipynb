{
 "cells": [
  {
   "cell_type": "markdown",
   "id": "d5a432c2-40f2-4802-9b8a-c92fd24cddfa",
   "metadata": {},
   "source": [
    "## Методы сбора и обработки данных из сети Интернет\n",
    "### Урок 1. Основы клиент-серверного взаимодействия. Парсинг API\n",
    "1. Посмотреть документацию к API GitHub, разобраться как вывести список репозиториев для конкретного пользователя, сохранить JSON-вывод в файле *.json."
   ]
  },
  {
   "cell_type": "code",
   "execution_count": 1,
   "id": "0db16fcf-9d26-4daf-b5c6-e8afab3fcc7a",
   "metadata": {},
   "outputs": [],
   "source": [
    "#!pip install requests"
   ]
  },
  {
   "cell_type": "code",
   "execution_count": 2,
   "id": "cb0e8855-ed40-4e4b-8c48-1a434bb100bc",
   "metadata": {},
   "outputs": [],
   "source": [
    "# загружаемые библиотеки \n",
    "import requests\n",
    "import json\n",
    "from pprint import pprint"
   ]
  },
  {
   "cell_type": "code",
   "execution_count": 3,
   "id": "0d15b1bf-f7ad-41db-b583-d073f66cc36c",
   "metadata": {},
   "outputs": [],
   "source": [
    "# параметры\n",
    "user = 'alvlagus'\n",
    "url = 'https://api.github.com/users'"
   ]
  },
  {
   "cell_type": "code",
   "execution_count": 4,
   "id": "a2ad202f-b8f0-4219-b328-7bf86edfafd2",
   "metadata": {
    "tags": []
   },
   "outputs": [],
   "source": [
    "# запрос\n",
    "response = requests.get(f'{url}/{user}/repos')\n",
    "j_data = response.json()\n",
    "#pprint(j_data)"
   ]
  },
  {
   "cell_type": "code",
   "execution_count": 5,
   "id": "72d06f3c-b3b4-4170-bbf9-abda4f89b7f0",
   "metadata": {},
   "outputs": [
    {
     "name": "stdout",
     "output_type": "stream",
     "text": [
      "1. Repository name: basic_stat\n",
      "2. Repository name: Mathematical_analysis\n",
      "3. Repository name: mlsec\n",
      "4. Repository name: Python_for_Data_Science\n",
      "5. Repository name: Python_for_DS_2\n",
      "6. Repository name: sqlstyle.guide\n",
      "7. Repository name: the_basics_of_Python_GB\n",
      "8. Repository name: training\n",
      "9. Repository name: useful_functions\n"
     ]
    }
   ],
   "source": [
    "# вывод списка репозиториев пользователя\n",
    "k = 1\n",
    "for i in j_data:\n",
    "    print(f\"{k}. Repository name: {i['name']}\")\n",
    "    k += 1"
   ]
  },
  {
   "cell_type": "code",
   "execution_count": 6,
   "id": "a1dc83cb-2b01-461c-85e4-1872fcba2385",
   "metadata": {},
   "outputs": [],
   "source": [
    "# сохранение содержимого запроса в файл myfile.json\n",
    "with open('myfile.json', 'w', encoding ='utf8') as json_file:\n",
    "    json.dump(j_data, json_file)"
   ]
  },
  {
   "cell_type": "markdown",
   "id": "2bf6dfab-5e6c-42d7-8c0c-63546c2455fa",
   "metadata": {},
   "source": [
    "2. Изучить список открытых API (https://www.programmableweb.com/category/all/apis). Найти среди них любое, требующее авторизацию (любого типа). Выполнить запросы к нему, пройдя авторизацию. Ответ сервера записать в файл.\n",
    "Если нет желания заморачиваться с поиском, возьмите API вконтакте (https://vk.com/dev/first_guide). Сделайте запрос, чтобы получить список всех сообществ на которые вы подписаны."
   ]
  },
  {
   "cell_type": "code",
   "execution_count": 7,
   "id": "7d39b07f-fd4b-4dc1-8b61-eeeaedfd7544",
   "metadata": {},
   "outputs": [],
   "source": [
    "# загружаемые библиотеки \n",
    "%load_ext autoreload\n",
    "%autoreload 2\n",
    "import requests\n",
    "import json\n",
    "from pprint import pprint\n",
    "from token_container import key"
   ]
  },
  {
   "cell_type": "markdown",
   "id": "27fa1d3c-b9e7-4f72-ab47-e709b1adf330",
   "metadata": {},
   "source": [
    "https://www.programmableweb.com/api/tisane-labs-language-model-rest-api"
   ]
  },
  {
   "cell_type": "code",
   "execution_count": 8,
   "id": "b913475f-c5aa-478a-8e2d-da7adda2970f",
   "metadata": {
    "tags": []
   },
   "outputs": [],
   "source": [
    "url = 'https://api.tisane.ai/languages'\n",
    "api_key = key"
   ]
  },
  {
   "cell_type": "code",
   "execution_count": 9,
   "id": "776ef41b-899a-4e9e-bdd9-83c3d5853a2a",
   "metadata": {},
   "outputs": [],
   "source": [
    "headers = {'Ocp-Apim-Subscription-Key': api_key}"
   ]
  },
  {
   "cell_type": "code",
   "execution_count": 10,
   "id": "9669c6a0-e25c-4b67-99e4-dc0893d78575",
   "metadata": {},
   "outputs": [],
   "source": [
    "response = requests.request('GET', url, headers=headers)\n",
    "req = response.json()"
   ]
  },
  {
   "cell_type": "code",
   "execution_count": 11,
   "id": "8f1bd150-56d9-4a1d-b2b3-190f8a134c64",
   "metadata": {
    "tags": []
   },
   "outputs": [],
   "source": [
    "#pprint(req)"
   ]
  },
  {
   "cell_type": "code",
   "execution_count": 12,
   "id": "34a79969-6f34-43c2-8dd8-6bd0c43be0cc",
   "metadata": {},
   "outputs": [],
   "source": [
    "# сохранение содержимого запроса в файл myfile.json\n",
    "with open('list_available_languages.json', 'w', encoding ='utf8') as json_file:\n",
    "    json.dump(req, json_file)"
   ]
  },
  {
   "cell_type": "code",
   "execution_count": null,
   "id": "ee6422b2-045a-4e5c-8d78-8662eacf3aea",
   "metadata": {},
   "outputs": [],
   "source": []
  }
 ],
 "metadata": {
  "kernelspec": {
   "display_name": "Python 3 (ipykernel)",
   "language": "python",
   "name": "python3"
  },
  "language_info": {
   "codemirror_mode": {
    "name": "ipython",
    "version": 3
   },
   "file_extension": ".py",
   "mimetype": "text/x-python",
   "name": "python",
   "nbconvert_exporter": "python",
   "pygments_lexer": "ipython3",
   "version": "3.9.7"
  }
 },
 "nbformat": 4,
 "nbformat_minor": 5
}

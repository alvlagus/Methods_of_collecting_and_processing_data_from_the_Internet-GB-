{
 "cells": [
  {
   "cell_type": "markdown",
   "metadata": {
    "pycharm": {
     "name": "#%% md\n"
    }
   },
   "source": [
    "## Методы сбора и обработки данных из сети Интернет\n",
    "### Урок 4. Парсинг HTML. XPath"
   ]
  },
  {
   "cell_type": "code",
   "execution_count": 3,
   "metadata": {
    "collapsed": false,
    "jupyter": {
     "outputs_hidden": false
    },
    "pycharm": {
     "name": "#%%\n"
    }
   },
   "outputs": [],
   "source": [
    "#  загружаемые библиотеки\n",
    "from pprint import pprint\n",
    "import requests\n",
    "from lxml import html\n",
    "from pymongo import MongoClient\n",
    "from pymongo.errors import DuplicateKeyError as dke"
   ]
  },
  {
   "cell_type": "code",
   "execution_count": 4,
   "metadata": {
    "collapsed": false,
    "jupyter": {
     "outputs_hidden": false
    },
    "pycharm": {
     "name": "#%%\n"
    }
   },
   "outputs": [],
   "source": [
    "#  Подключение базы данных MongoDB\n",
    "client = MongoClient('localhost', 27017)\n",
    "\n",
    "db = client['news']  # database\n",
    "yandex = db.yandex  # collection"
   ]
  },
  {
   "cell_type": "code",
   "execution_count": 5,
   "metadata": {
    "collapsed": false,
    "jupyter": {
     "outputs_hidden": false
    },
    "pycharm": {
     "name": "#%%\n"
    }
   },
   "outputs": [],
   "source": [
    "# #  Очистка коллекции БД:\n",
    "# yandex.delete_many({})"
   ]
  },
  {
   "cell_type": "code",
   "execution_count": 6,
   "metadata": {
    "collapsed": false,
    "jupyter": {
     "outputs_hidden": false
    },
    "pycharm": {
     "name": "#%%\n"
    }
   },
   "outputs": [],
   "source": [
    "url = 'https://yandex.ru/news'\n",
    "headers = {'User-Agent': 'Mozilla/5.0 (X11; Linux x86_64) AppleWebKit/537.36 (KHTML, like Gecko) Chrome/98.0.4758.102 '\n",
    "                         'Safari/537.36'}\n",
    "\n",
    "res = requests.get(url, headers=headers)\n",
    "dom = html.fromstring(res.text)\n",
    "\n",
    "topnews = dom.xpath(\"//a[contains(@href,'rubric=index&fan') and @class='mg-card__link']/ancestor::div[contains(\"\n",
    "                    \"@class,'mg-grid__item')] \")"
   ]
  },
  {
   "cell_type": "code",
   "execution_count": 7,
   "metadata": {
    "collapsed": false,
    "jupyter": {
     "outputs_hidden": false
    },
    "pycharm": {
     "name": "#%%\n"
    }
   },
   "outputs": [],
   "source": [
    "for item in topnews:\n",
    "\n",
    "    source = item.xpath('.//a[@class=\"mg-card__source-link\"]/text()')\n",
    "    title = item.xpath('.//h2[@class=\"mg-card__title\"]//text()')[0].replace('\\xa0', ' ')\n",
    "    link = item.xpath('.//a[@href]//@href')[0]\n",
    "    data = item.xpath('.//span[@class=\"mg-card-source__time\"]/text()')\n",
    "\n",
    "    news_list = {\n",
    "        'Источник': source,\n",
    "        'Название': title,\n",
    "        'Ссылка': link,\n",
    "        'Дата': data,\n",
    "    }\n",
    "\n",
    "    #  Запись документов в БД:\n",
    "    try:\n",
    "        yandex.update_one(news_list, {'$set': news_list}, upsert=True)\n",
    "    except dke:\n",
    "        print('Duplicate key error collection')"
   ]
  },
  {
   "cell_type": "code",
   "execution_count": 8,
   "metadata": {
    "collapsed": false,
    "jupyter": {
     "outputs_hidden": false
    },
    "pycharm": {
     "name": "#%%\n"
    }
   },
   "outputs": [
    {
     "name": "stdout",
     "output_type": "stream",
     "text": [
      "{'_id': ObjectId('621d864889dba884ec37e6fa'),\n",
      " 'Дата': ['05:22'],\n",
      " 'Источник': ['РИА Новости'],\n",
      " 'Название': 'МИД Японии объявил о введении санкций против Путина, Лаврова и '\n",
      "             'Шойгу',\n",
      " 'Ссылка': 'https://yandex.ru/news/story/MID_YAponii_obyavil_ovvedenii_sankcij_protiv_Putina_Lavrova_i_SHojgu--1fb29052500047ae198f4d05d9998daf?lang=ru&rubric=index&fan=1&stid=AiZujQWg_wtzzgylA3JD&t=1646101684&tt=true&persistent_id=182467823&story=f8dadab8-da5f-5824-bd6c-11af1f669cd4'}\n",
      "{'_id': ObjectId('621d864889dba884ec37e6fc'),\n",
      " 'Дата': ['05:21'],\n",
      " 'Источник': ['РИА Новости'],\n",
      " 'Название': 'Постпред КНР при ООН Цзюнь: диалог между Москвой и Киевом '\n",
      "             'поможет решить кризис на Украине',\n",
      " 'Ссылка': 'https://yandex.ru/news/story/Postpred_KNR_priOON_Czyun_dialog_mezhduMoskvoj_i_Kievom_pomozhet_reshit_krizis_naUkraine--935040a3179955f11d6baa4751684cfe?lang=ru&rubric=index&fan=1&stid=D8daKLoGdxuTvo2pKnG0&t=1646101684&tt=true&persistent_id=182464770&story=a420afa8-5726-5f2d-8102-6f87d8423bfd'}\n",
      "{'_id': ObjectId('621d864889dba884ec37e6fe'),\n",
      " 'Дата': ['04:25'],\n",
      " 'Источник': ['РИА Новости'],\n",
      " 'Название': 'Минобороны: ВКС России поразили шесть колонн украинской '\n",
      "             'бронетехники',\n",
      " 'Ссылка': 'https://yandex.ru/news/story/Minoborony_VKS_Rossii_porazili_shest_kolonn_ukrainskoj_bronetekhniki--2abfb1998119f32fdb521ee0da60b598?lang=ru&rubric=index&fan=1&stid=6NkJvtsNW20EAOUGOppN&t=1646101684&tt=true&persistent_id=182391712&story=8fac4b50-1ba0-58c0-9339-295473482c0f'}\n",
      "{'_id': ObjectId('621d864889dba884ec37e700'),\n",
      " 'Дата': ['03:18'],\n",
      " 'Источник': ['РИА Новости'],\n",
      " 'Название': 'Президент Украины Зеленский: переговоры с Россией не дали '\n",
      "             'результата, который нужен Киеву',\n",
      " 'Ссылка': 'https://yandex.ru/news/story/Prezident_Ukrainy_Zelenskij_peregovory_sRossiej_ne_dali_rezultata_kotoryj_nuzhen_Kievu--21d0a56b2afb5207a8aeaa84ed3117e6?lang=ru&rubric=index&fan=1&stid=jk9axRuwVs9h4B_iad2B&t=1646101684&tt=true&persistent_id=182464652&story=8d9b80b7-07d1-5129-93f9-9567a164fc5c'}\n",
      "{'_id': ObjectId('621d864889dba884ec37e702'),\n",
      " 'Дата': ['05:18'],\n",
      " 'Источник': ['Lenta.ru'],\n",
      " 'Название': 'Евросоюз ввел санкции против российских бизнесменов Усманова, '\n",
      "             'Фридмана, Авена и Мордашова',\n",
      " 'Ссылка': 'https://yandex.ru/news/story/Evrosoyuz_vvel_sankcii_protiv_rossijskikh_biznesmenov_Usmanova_Fridmana_Avena_i_Mordashova--c0e7b2585fe0498b76badf1b057d0046?lang=ru&rubric=index&fan=1&stid=4-7DcijL08-wolDo1d_h&t=1646101684&tt=true&persistent_id=182461265&story=844d4b13-fe3f-59cb-a260-200277ec04ec'}\n",
      "Documents in collection:  5\n"
     ]
    }
   ],
   "source": [
    "#  Просмотр результата:\n",
    "for doc in yandex.find({}):\n",
    "    pprint(doc)\n",
    "print('Documents in collection: ', db.yandex.count_documents({}))  # Выводим количество документов в БД"
   ]
  }
 ],
 "metadata": {
  "kernelspec": {
   "display_name": "Python 3 (ipykernel)",
   "language": "python",
   "name": "python3"
  },
  "language_info": {
   "codemirror_mode": {
    "name": "ipython",
    "version": 3
   },
   "file_extension": ".py",
   "mimetype": "text/x-python",
   "name": "python",
   "nbconvert_exporter": "python",
   "pygments_lexer": "ipython3",
   "version": "3.9.7"
  }
 },
 "nbformat": 4,
 "nbformat_minor": 4
}

{
 "cells": [
  {
   "cell_type": "markdown",
   "metadata": {
    "pycharm": {
     "name": "#%% md\n"
    }
   },
   "source": [
    "## Методы сбора и обработки данных из сети Интернет\n",
    "### Урок 4. Парсинг HTML. XPath"
   ]
  },
  {
   "cell_type": "markdown",
   "metadata": {
    "pycharm": {
     "name": "#%% md\n"
    }
   },
   "source": [
    "    1. Написать приложение, которое собирает основные новости с сайта на выбор news.mail.ru, lenta.ru, yandex-новости. Для парсинга использовать XPath. Структура данных должна содержать:\n",
    "        ◦ название источника;\n",
    "        ◦ наименование новости;\n",
    "        ◦ ссылку на новость;\n",
    "        ◦ дата публикации.\n",
    "\n",
    "    2. Сложить собранные новости в БД"
   ]
  },
  {
   "cell_type": "code",
   "execution_count": 12,
   "metadata": {
    "collapsed": false,
    "jupyter": {
     "outputs_hidden": false
    },
    "pycharm": {
     "name": "#%%\n"
    }
   },
   "outputs": [],
   "source": [
    "#  загружаемые библиотеки\n",
    "from pprint import pprint\n",
    "import requests\n",
    "from lxml import html\n",
    "from pymongo import MongoClient\n",
    "from pymongo.errors import DuplicateKeyError as dke"
   ]
  },
  {
   "cell_type": "code",
   "execution_count": 13,
   "metadata": {
    "collapsed": false,
    "jupyter": {
     "outputs_hidden": false
    },
    "pycharm": {
     "name": "#%%\n"
    }
   },
   "outputs": [],
   "source": [
    "#  Подключение базы данных MongoDB\n",
    "client = MongoClient('localhost', 27017)\n",
    "\n",
    "db = client['news']  # database\n",
    "lenta = db.lenta  # collection"
   ]
  },
  {
   "cell_type": "code",
   "execution_count": 14,
   "metadata": {
    "collapsed": false,
    "jupyter": {
     "outputs_hidden": false
    },
    "pycharm": {
     "name": "#%%\n"
    }
   },
   "outputs": [],
   "source": [
    "# #  Очистка коллекции БД:\n",
    "# lenta.delete_many({})"
   ]
  },
  {
   "cell_type": "code",
   "execution_count": 15,
   "metadata": {
    "collapsed": false,
    "jupyter": {
     "outputs_hidden": false
    },
    "pycharm": {
     "name": "#%%\n"
    }
   },
   "outputs": [],
   "source": [
    "url = 'https://lenta.ru/'\n",
    "headers = {'User-Agent': 'Mozilla/5.0 (X11; Linux x86_64) AppleWebKit/537.36 (KHTML, like Gecko) Chrome/98.0.4758.102 '\n",
    "                         'Safari/537.36'}\n",
    "\n",
    "res = requests.get(url, headers=headers)\n",
    "dom = html.fromstring(res.text)\n",
    "\n",
    "topnews = dom.xpath(\"//a[contains(@class, '_topnews')]\")"
   ]
  },
  {
   "cell_type": "code",
   "execution_count": 16,
   "metadata": {
    "collapsed": false,
    "jupyter": {
     "outputs_hidden": false
    },
    "pycharm": {
     "name": "#%%\n"
    }
   },
   "outputs": [],
   "source": [
    "for item in topnews:\n",
    "    source = url\n",
    "    title = item.xpath('.//h3[contains(@class, \"card-big__title\")]//text() | .//span[contains(@class, '\n",
    "                       '\"card-mini__title\")]//text()')\n",
    "    link = item.xpath('./@href')[0]\n",
    "    full_link = url + link\n",
    "    data = item.xpath('.//time[contains(@class, \"card-big__date\")]//text() | .//time[contains(@class, '\n",
    "                      '\"card-mini__date\")]//text()')\n",
    "    news_list = {\n",
    "        'Источник': url,\n",
    "        'Название': title,\n",
    "        'Ссылка': full_link,\n",
    "        'Дата': data,\n",
    "    }\n",
    "\n",
    "    #  Запись документов в БД:\n",
    "    try:\n",
    "        lenta.update_one(news_list, {'$set': news_list}, upsert=True)\n",
    "    except dke:\n",
    "        print('Duplicate key error collection')"
   ]
  },
  {
   "cell_type": "code",
   "execution_count": 17,
   "metadata": {
    "collapsed": false,
    "jupyter": {
     "outputs_hidden": false
    },
    "pycharm": {
     "name": "#%%\n"
    }
   },
   "outputs": [
    {
     "name": "stdout",
     "output_type": "stream",
     "text": [
      "{'_id': ObjectId('621d853589dba884ec37e5ed'),\n",
      " 'Дата': ['02:51'],\n",
      " 'Источник': 'https://lenta.ru/',\n",
      " 'Название': ['Байден оценил вероятность ядерной войны'],\n",
      " 'Ссылка': 'https://lenta.ru//news/2022/03/01/yadernaya/'}\n",
      "{'_id': ObjectId('621d853589dba884ec37e5ef'),\n",
      " 'Дата': ['05:26'],\n",
      " 'Источник': 'https://lenta.ru/',\n",
      " 'Название': ['Названы советы по восстановлению обоняния после COVID-19'],\n",
      " 'Ссылка': 'https://lenta.ru/https://moslenta.ru/news/lyudi/vosstanovlenie-obonyaniya-01-03-2022.htm/'}\n",
      "{'_id': ObjectId('621d853589dba884ec37e5f1'),\n",
      " 'Дата': ['05:25'],\n",
      " 'Источник': 'https://lenta.ru/',\n",
      " 'Название': ['Harley-Davidson приостановила поставки мотоциклов в Россию'],\n",
      " 'Ссылка': 'https://lenta.ru//news/2022/03/01/herley/'}\n",
      "{'_id': ObjectId('621d853589dba884ec37e5f3'),\n",
      " 'Дата': ['05:18'],\n",
      " 'Источник': 'https://lenta.ru/',\n",
      " 'Название': ['На Украине отключили связь для телефонов с рядом номеров'],\n",
      " 'Ссылка': 'https://lenta.ru//news/2022/03/01/phones/'}\n",
      "{'_id': ObjectId('621d853589dba884ec37e5f5'),\n",
      " 'Дата': ['05:18'],\n",
      " 'Источник': 'https://lenta.ru/',\n",
      " 'Название': ['Британским военным запретили самовольно отправляться воевать на '\n",
      "              'Украину'],\n",
      " 'Ссылка': 'https://lenta.ru//news/2022/03/01/zapret/'}\n",
      "{'_id': ObjectId('621d853589dba884ec37e5f7'),\n",
      " 'Дата': ['05:06'],\n",
      " 'Источник': 'https://lenta.ru/',\n",
      " 'Название': ['Невролог рассказал о вернувшимся со стелс-омикроном симптоме '\n",
      "              'коронавируса'],\n",
      " 'Ссылка': 'https://lenta.ru//news/2022/03/01/simptom/'}\n",
      "{'_id': ObjectId('621d853589dba884ec37e5f9'),\n",
      " 'Дата': ['05:00'],\n",
      " 'Источник': 'https://lenta.ru/',\n",
      " 'Название': ['Заключенный спас людей из-под завалов и отказался от смягчения '\n",
      "              'наказания'],\n",
      " 'Ссылка': 'https://lenta.ru//news/2022/03/01/inmate/'}\n",
      "{'_id': ObjectId('621d853589dba884ec37e5fb'),\n",
      " 'Дата': ['04:53'],\n",
      " 'Источник': 'https://lenta.ru/',\n",
      " 'Название': ['Румыния призвала срочно укрепить восточный фланг НАТО из-за '\n",
      "              'ситуации на Украине'],\n",
      " 'Ссылка': 'https://lenta.ru//news/2022/03/01/romania_/'}\n",
      "{'_id': ObjectId('621d853589dba884ec37e5fd'),\n",
      " 'Дата': ['04:43'],\n",
      " 'Источник': 'https://lenta.ru/',\n",
      " 'Название': ['Из-за аномальной погоды в Москве проснулись ежи'],\n",
      " 'Ссылка': 'https://lenta.ru/https://moslenta.ru/news/city/prosnulis-ezhi-01-03-2022.htm/'}\n",
      "{'_id': ObjectId('621d853589dba884ec37e5ff'),\n",
      " 'Дата': ['04:40'],\n",
      " 'Источник': 'https://lenta.ru/',\n",
      " 'Название': ['Disney заявила о приостановке поставки фильмов в российские '\n",
      "              'кинотеатры'],\n",
      " 'Ссылка': 'https://lenta.ru//news/2022/03/01/disney/'}\n",
      "{'_id': ObjectId('621d853589dba884ec37e601'),\n",
      " 'Дата': ['04:35'],\n",
      " 'Источник': 'https://lenta.ru/',\n",
      " 'Название': ['Раскрыт вред бытовой химии'],\n",
      " 'Ссылка': 'https://lenta.ru//news/2022/03/01/chemicalhealth/'}\n",
      "{'_id': ObjectId('621d853589dba884ec37e603'),\n",
      " 'Дата': ['04:30'],\n",
      " 'Источник': 'https://lenta.ru/',\n",
      " 'Название': ['Япония ввела санкции против руководства России'],\n",
      " 'Ссылка': 'https://lenta.ru//news/2022/03/01/japan/'}\n",
      "{'_id': ObjectId('621d853589dba884ec37e605'),\n",
      " 'Дата': ['01:32'],\n",
      " 'Источник': 'https://lenta.ru/',\n",
      " 'Название': ['Зеленский оценил результаты переговоров с Россией'],\n",
      " 'Ссылка': 'https://lenta.ru//news/2022/03/01/itogi/'}\n",
      "Documents in collection:  13\n"
     ]
    }
   ],
   "source": [
    "#  Просмотр результата:\n",
    "for doc in lenta.find({}):\n",
    "    pprint(doc)\n",
    "print('Documents in collection: ', db.lenta.count_documents({}))  # Выводим количество документов в БД"
   ]
  }
 ],
 "metadata": {
  "kernelspec": {
   "display_name": "Python 3 (ipykernel)",
   "language": "python",
   "name": "python3"
  },
  "language_info": {
   "codemirror_mode": {
    "name": "ipython",
    "version": 3
   },
   "file_extension": ".py",
   "mimetype": "text/x-python",
   "name": "python",
   "nbconvert_exporter": "python",
   "pygments_lexer": "ipython3",
   "version": "3.9.7"
  }
 },
 "nbformat": 4,
 "nbformat_minor": 4
}
